{
  "nbformat": 4,
  "nbformat_minor": 0,
  "metadata": {
    "colab": {
      "provenance": []
    },
    "kernelspec": {
      "name": "python3",
      "display_name": "Python 3"
    },
    "language_info": {
      "name": "python"
    }
  },
  "cells": [
    {
      "cell_type": "markdown",
      "source": [
        " **a**. **Build 99% Confidence Interval Using Sample Standard Deviation**\n",
        "\n",
        "Assuming the sample is representative of the population, construct a 99% confidence interval for the mean number of characters printed before the print-head fails using the sample standard deviation. Explain the steps you take and the rationale behind using the t-distribution for this task.\n",
        "\n",
        "\n",
        "A total of 15 print-heads were randomly selected and tested until failure. The durability of each print-head (in millions of characters) was recorded as follows:\n",
        "\n",
        "1.13, 1.55, 1.43, 0.92, 1.25, 1.36, 1.32, 0.85, 1.07, 1.48, 1.20, 1.33, 1.18, 1.22, 1.29\n"
      ],
      "metadata": {
        "id": "PlxwT0JitxKY"
      }
    },
    {
      "cell_type": "code",
      "source": [
        "# importing necessary libraries\n",
        "import numpy as np\n",
        "from scipy import stats\n",
        "# given data\n",
        "CI=0.99\n",
        "alpha=0.01\n",
        "n=15\n",
        "df=n-1\n",
        "# x_bar=np.mean(sample_data)"
      ],
      "metadata": {
        "id": "Qd6shhE_v9dL"
      },
      "execution_count": 1,
      "outputs": []
    },
    {
      "cell_type": "code",
      "execution_count": 2,
      "metadata": {
        "id": "Udom4W9MHR5-"
      },
      "outputs": [],
      "source": [
        "# stores the sample data in a array\n",
        "sample_data=np.array([1.13, 1.55, 1.43, 0.92, 1.25, 1.36, 1.32, 0.85, 1.07, 1.48, 1.20, 1.33, 1.18, 1.22, 1.29])"
      ]
    },
    {
      "cell_type": "code",
      "source": [
        "x_bar=np.mean(sample_data) # calculating sample mean"
      ],
      "metadata": {
        "id": "Up-mU3oru0aH"
      },
      "execution_count": 3,
      "outputs": []
    },
    {
      "cell_type": "code",
      "source": [
        "std=np.std(sample_data,ddof=1) # calculates sample standard deviation"
      ],
      "metadata": {
        "id": "QyO8GWKswDcQ"
      },
      "execution_count": 4,
      "outputs": []
    },
    {
      "cell_type": "code",
      "source": [
        "print(x_bar) # prints sample mean\n",
        "print(std) # prints sample standard deviation"
      ],
      "metadata": {
        "colab": {
          "base_uri": "https://localhost:8080/"
        },
        "id": "29GulRWNwHIb",
        "outputId": "a6d68189-0400-45f8-f101-18e8f0da76ff"
      },
      "execution_count": 5,
      "outputs": [
        {
          "output_type": "stream",
          "name": "stdout",
          "text": [
            "1.2386666666666666\n",
            "0.19316412956959936\n"
          ]
        }
      ]
    },
    {
      "cell_type": "code",
      "source": [
        "# Calculates the critical value of the t-distribution for a two-tailed test\n",
        "t_critical=stats.t.ppf(1-alpha/2,df)\n"
      ],
      "metadata": {
        "id": "UFfvTIN-wK69"
      },
      "execution_count": 6,
      "outputs": []
    },
    {
      "cell_type": "code",
      "source": [
        "t_critical # prints t_critical value"
      ],
      "metadata": {
        "colab": {
          "base_uri": "https://localhost:8080/"
        },
        "id": "S5B-F_H8tZ3-",
        "outputId": "ce316f3a-e968-4315-a383-a8e3edd0884d"
      },
      "execution_count": 7,
      "outputs": [
        {
          "output_type": "execute_result",
          "data": {
            "text/plain": [
              "2.976842734370834"
            ]
          },
          "metadata": {},
          "execution_count": 7
        }
      ]
    },
    {
      "cell_type": "code",
      "source": [
        "Margin_of_Error=t_critical*(std/np.sqrt(n)) # calculates the margin of error"
      ],
      "metadata": {
        "id": "pNR01a1Btqv1"
      },
      "execution_count": 8,
      "outputs": []
    },
    {
      "cell_type": "code",
      "source": [
        "Margin_of_Error # prints margin of error\n"
      ],
      "metadata": {
        "colab": {
          "base_uri": "https://localhost:8080/"
        },
        "id": "Mevm3BFZ4u4Y",
        "outputId": "3d2d8c3e-7df6-4959-dc8c-c2c7f6823232"
      },
      "execution_count": 9,
      "outputs": [
        {
          "output_type": "execute_result",
          "data": {
            "text/plain": [
              "0.14846932822817596"
            ]
          },
          "metadata": {},
          "execution_count": 9
        }
      ]
    },
    {
      "cell_type": "code",
      "source": [
        "lower_limit=x_bar-Margin_of_Error # calculates the lower limit\n",
        "upper_limit=x_bar+Margin_of_Error # calculates the upper limit"
      ],
      "metadata": {
        "id": "RYjCF5J17nhz"
      },
      "execution_count": 10,
      "outputs": []
    },
    {
      "cell_type": "code",
      "source": [
        "print(lower_limit) # prints lower limit\n",
        "print(upper_limit) # prints upper limit"
      ],
      "metadata": {
        "colab": {
          "base_uri": "https://localhost:8080/"
        },
        "id": "MJWsElT27m6t",
        "outputId": "ec0a37d7-ac80-4148-afee-d45ea8307e55"
      },
      "execution_count": 11,
      "outputs": [
        {
          "output_type": "stream",
          "name": "stdout",
          "text": [
            "1.0901973384384906\n",
            "1.3871359948948425\n"
          ]
        }
      ]
    },
    {
      "cell_type": "code",
      "source": [
        "# calculating confidence_interval\n",
        "confidence_interval=(lower_limit,upper_limit)"
      ],
      "metadata": {
        "id": "vfvZDJTK7C2f"
      },
      "execution_count": 12,
      "outputs": []
    },
    {
      "cell_type": "code",
      "source": [
        "confidence_interval"
      ],
      "metadata": {
        "colab": {
          "base_uri": "https://localhost:8080/"
        },
        "id": "AM-xPgK27IKW",
        "outputId": "87c80e1f-19e1-4dca-d394-108845f6e3e9"
      },
      "execution_count": 13,
      "outputs": [
        {
          "output_type": "execute_result",
          "data": {
            "text/plain": [
              "(1.0901973384384906, 1.3871359948948425)"
            ]
          },
          "metadata": {},
          "execution_count": 13
        }
      ]
    },
    {
      "cell_type": "markdown",
      "source": [
        "The 99% confidence interval using the sample standard deviation is approximately (1.09million, 1.38 million) characters.\n",
        "\n",
        "Steps taken:\n",
        "\n",
        "1. Define the sample data.\n",
        "2. Calculate sample mean and standard deviation.\n",
        "3. Determine the degree of freedom(df).\n",
        "4. Calculate the t-critical.\n",
        "5. Calculate the margin of error.\n",
        "6. Calculate the confidence interval.  \n",
        "\n",
        "Rationale for using t-disteibution:\n",
        "\n",
        "\n",
        "\n",
        "* The sample size is small (n=15).When the sample size is less than 30 we generally use t-distribution.  \n",
        "*   When the population standard deviation is not know we use the sample standard deviation. so t-distribution is used.\n",
        "\n",
        "   \n",
        "\n",
        "\n",
        "\n"
      ],
      "metadata": {
        "id": "qP-d8hvU9QJU"
      }
    },
    {
      "cell_type": "markdown",
      "source": [
        "**b**. **Build 99% Confidence Interval Using Known Population Standard Deviation**\n",
        "\n",
        "If it were known that the population standard deviation is 0.2 million characters, construct a 99% confidence interval for the mean number of characters printed before failure.\n"
      ],
      "metadata": {
        "id": "Y8xKUEPRIuhI"
      }
    },
    {
      "cell_type": "code",
      "source": [
        "# given data\n",
        "s=0.2 # population standard deviation\n",
        "# CI=0.99\n",
        "# alpha=0.01\n",
        "# n=15\n",
        "\n"
      ],
      "metadata": {
        "id": "CuhyPnDY9T9m"
      },
      "execution_count": 14,
      "outputs": []
    },
    {
      "cell_type": "code",
      "source": [
        "z_critical=stats.norm.ppf(1-alpha/2) # calculates the critical value of the z-distribution for a two-tailed test"
      ],
      "metadata": {
        "id": "kAp6ksxMNm54"
      },
      "execution_count": 15,
      "outputs": []
    },
    {
      "cell_type": "code",
      "source": [
        "z_critical"
      ],
      "metadata": {
        "colab": {
          "base_uri": "https://localhost:8080/"
        },
        "id": "b6UVRuH-NuAg",
        "outputId": "6ca19122-757c-499f-ae8b-a20f266b2d28"
      },
      "execution_count": 16,
      "outputs": [
        {
          "output_type": "execute_result",
          "data": {
            "text/plain": [
              "2.5758293035489004"
            ]
          },
          "metadata": {},
          "execution_count": 16
        }
      ]
    },
    {
      "cell_type": "code",
      "source": [
        "Margin_of_Error=z_critical*(s/np.sqrt(n)) # calculates the margin of error"
      ],
      "metadata": {
        "id": "zBxhIO6qNwVN"
      },
      "execution_count": 17,
      "outputs": []
    },
    {
      "cell_type": "code",
      "source": [
        "pop_mean_lower_limit=x_bar-Margin_of_Error # calculates the lower limit\n",
        "pop_mean_upper_limit=x_bar+Margin_of_Error # calculates the upper limit"
      ],
      "metadata": {
        "id": "eF0cQ7NfOR0-"
      },
      "execution_count": 18,
      "outputs": []
    },
    {
      "cell_type": "code",
      "source": [
        "print(pop_mean_lower_limit) # prints lower limit\n",
        "print(pop_mean_upper_limit) # prints upper limit"
      ],
      "metadata": {
        "colab": {
          "base_uri": "https://localhost:8080/"
        },
        "id": "uToPLFeMQRrI",
        "outputId": "5ece83d7-2e22-4017-86f3-aa88925743b2"
      },
      "execution_count": 19,
      "outputs": [
        {
          "output_type": "stream",
          "name": "stdout",
          "text": [
            "1.1056514133957607\n",
            "1.3716819199375725\n"
          ]
        }
      ]
    },
    {
      "cell_type": "code",
      "source": [
        "confidence_interval=(pop_mean_lower_limit,pop_mean_upper_limit) # calculates the confidence interval"
      ],
      "metadata": {
        "id": "9Q7JbZzaQEvv"
      },
      "execution_count": 20,
      "outputs": []
    },
    {
      "cell_type": "code",
      "source": [
        "confidence_interval # prints confidence interval"
      ],
      "metadata": {
        "colab": {
          "base_uri": "https://localhost:8080/"
        },
        "id": "gi5iS86SQPpL",
        "outputId": "e5be2f8c-f535-4f03-9c2e-fea47cc7c933"
      },
      "execution_count": 21,
      "outputs": [
        {
          "output_type": "execute_result",
          "data": {
            "text/plain": [
              "(1.1056514133957607, 1.3716819199375725)"
            ]
          },
          "metadata": {},
          "execution_count": 21
        }
      ]
    },
    {
      "cell_type": "markdown",
      "source": [
        "The 99% confidence interval for the mean number of characters printed before failure, using the known population standard deviation of\n",
        "0.2 million characters, is approximately (1.10 million, 1.37 million) characters."
      ],
      "metadata": {
        "id": "LHP0iERmQ5Ze"
      }
    },
    {
      "cell_type": "code",
      "source": [],
      "metadata": {
        "id": "iFrAXob0QXL5"
      },
      "execution_count": 21,
      "outputs": []
    }
  ]
}