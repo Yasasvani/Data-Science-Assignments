{
  "nbformat": 4,
  "nbformat_minor": 0,
  "metadata": {
    "colab": {
      "provenance": []
    },
    "kernelspec": {
      "name": "python3",
      "display_name": "Python 3"
    },
    "language_info": {
      "name": "python"
    }
  },
  "cells": [
    {
      "cell_type": "markdown",
      "source": [
        "1.Write the Python program to check whethre the given number is prime or not."
      ],
      "metadata": {
        "id": "9GthKShQkobG"
      }
    },
    {
      "cell_type": "code",
      "execution_count": 1,
      "metadata": {
        "colab": {
          "base_uri": "https://localhost:8080/"
        },
        "id": "A-W0FxfckiCv",
        "outputId": "786ed382-0ccf-4eba-defd-a27c6283b6a9"
      },
      "outputs": [
        {
          "output_type": "stream",
          "name": "stdout",
          "text": [
            "Enter the number: 6\n",
            "This is not a prime number\n"
          ]
        }
      ],
      "source": [
        "# Gets the input from the user and converts the input to an integer\n",
        "num = int(input(\"Enter the number: \"))\n",
        "\n",
        "# Check if the number is less than or equal to 1\n",
        "# Numbers less than or equal to 1 are not prime numbers\n",
        "if num <= 1:\n",
        "    print(\"This is not a prime number\")\n",
        "# For numbers greater than 1\n",
        "else:\n",
        "    # Check for divisibility from 2 up to the square root of the number\n",
        "    # Using a generator expression to check if 'num' is divisible by any number in this range\n",
        "    # If 'num' is divisible by any of these numbers, it is not a prime number\n",
        "    is_prime = not any([num % i == 0 for i in range(2, int(num**0.5) + 1)])\n",
        "\n",
        "    # Prints the result using a ternary operator based on whether the number is prime or not\n",
        "    print(\"This is a prime number\" if is_prime else \"This is not a prime number\")"
      ]
    },
    {
      "cell_type": "markdown",
      "source": [
        "2.Develop a Python program that generates two random numbers and asks the user to enter the product of these numbers. The program should then check if the user's answer is correct and display an appropriate message."
      ],
      "metadata": {
        "id": "ZONhOcxrlRsy"
      }
    },
    {
      "cell_type": "code",
      "source": [
        "import random  # Import the random module for generating random numbers\n",
        "\n",
        "# Generate two random numbers between 1 and 10\n",
        "num1 = random.randint(1, 10)\n",
        "num2 = random.randint(1, 10)\n",
        "# Calculate the correct product of the two numbers\n",
        "correct_product = num1 * num2\n",
        "# Ask the user for their answer\n",
        "user_answer = int(input(f\"What is the product of {num1} and {num2}? \"))\n",
        "# Check if the user's answer is correct\n",
        "if user_answer == correct_product:\n",
        "    print(\"Congratulations! Your answer is correct.\")  # Display a success message\n",
        "else:\n",
        "    print(f\"Sorry, the correct answer is {correct_product}.\")  # Display a failure message"
      ],
      "metadata": {
        "colab": {
          "base_uri": "https://localhost:8080/"
        },
        "id": "-0S356psk0SZ",
        "outputId": "e6be1d54-883f-4f51-f0ff-7917cb0e1efe"
      },
      "execution_count": 2,
      "outputs": [
        {
          "output_type": "stream",
          "name": "stdout",
          "text": [
            "What is the product of 2 and 6? 12\n",
            "Congratulations! Your answer is correct.\n"
          ]
        }
      ]
    },
    {
      "cell_type": "markdown",
      "source": [
        "3.Create a Python script that prints the squares of all even or odd numbers within the range of 100 to 200. Choose either even or odd numbers and document your choice in the code."
      ],
      "metadata": {
        "id": "aHbPtVjSpLua"
      }
    },
    {
      "cell_type": "code",
      "source": [
        "# Choosing to print squares of even numbers within the range of 100 to 200\n",
        "\n",
        "for num in range(100, 201):  # Iterate through numbers from 100 to 200 (inclusive)\n",
        "  if num % 2 == 0:  # Check if the number is even (remainder is 0 when divided by 2)\n",
        "    square = num ** 2  # Calculate the square of the even number\n",
        "    print(f\"The square of {num} is {square}\")  # Print the number and its square\n"
      ],
      "metadata": {
        "colab": {
          "base_uri": "https://localhost:8080/"
        },
        "id": "NFTbYH-KpasW",
        "outputId": "b592f3ab-1123-43fa-ef0f-d697b29377a0"
      },
      "execution_count": 3,
      "outputs": [
        {
          "output_type": "stream",
          "name": "stdout",
          "text": [
            "The square of 100 is 10000\n",
            "The square of 102 is 10404\n",
            "The square of 104 is 10816\n",
            "The square of 106 is 11236\n",
            "The square of 108 is 11664\n",
            "The square of 110 is 12100\n",
            "The square of 112 is 12544\n",
            "The square of 114 is 12996\n",
            "The square of 116 is 13456\n",
            "The square of 118 is 13924\n",
            "The square of 120 is 14400\n",
            "The square of 122 is 14884\n",
            "The square of 124 is 15376\n",
            "The square of 126 is 15876\n",
            "The square of 128 is 16384\n",
            "The square of 130 is 16900\n",
            "The square of 132 is 17424\n",
            "The square of 134 is 17956\n",
            "The square of 136 is 18496\n",
            "The square of 138 is 19044\n",
            "The square of 140 is 19600\n",
            "The square of 142 is 20164\n",
            "The square of 144 is 20736\n",
            "The square of 146 is 21316\n",
            "The square of 148 is 21904\n",
            "The square of 150 is 22500\n",
            "The square of 152 is 23104\n",
            "The square of 154 is 23716\n",
            "The square of 156 is 24336\n",
            "The square of 158 is 24964\n",
            "The square of 160 is 25600\n",
            "The square of 162 is 26244\n",
            "The square of 164 is 26896\n",
            "The square of 166 is 27556\n",
            "The square of 168 is 28224\n",
            "The square of 170 is 28900\n",
            "The square of 172 is 29584\n",
            "The square of 174 is 30276\n",
            "The square of 176 is 30976\n",
            "The square of 178 is 31684\n",
            "The square of 180 is 32400\n",
            "The square of 182 is 33124\n",
            "The square of 184 is 33856\n",
            "The square of 186 is 34596\n",
            "The square of 188 is 35344\n",
            "The square of 190 is 36100\n",
            "The square of 192 is 36864\n",
            "The square of 194 is 37636\n",
            "The square of 196 is 38416\n",
            "The square of 198 is 39204\n",
            "The square of 200 is 40000\n"
          ]
        }
      ]
    },
    {
      "cell_type": "markdown",
      "source": [
        "4.write a program to count the number of words in a given text.\n",
        "example:\n",
        "input_text = \"This is a sample text. This text will be used to demonstrate the word counter.\"\n",
        "Expected output:\n",
        "'This': 2\n",
        "'is': 1\n",
        "'a': 1\n",
        "'sample': 1\n",
        "'text.': 1"
      ],
      "metadata": {
        "id": "BDkq_rqxqjRj"
      }
    },
    {
      "cell_type": "code",
      "source": [
        "import re  # Import the regular expression module\n",
        "\n",
        "input_text = \"This is a sample text. This text will be used to demonstrate the word counter.\"  #input text\n",
        "\n",
        "# Define a regular expression pattern to match words\n",
        "word_pattern = r'\\b\\w+\\b'  # \\b matches word boundaries, \\w+ matches one or more word characters\n",
        "\n",
        "# Find all words in the text (converted to lowercase for consistency)\n",
        "words = re.findall(word_pattern, input_text.lower())\n",
        "\n",
        "# Count word occurrences\n",
        "word_counts = {}  # Initialize an empty dictionary to store word counts\n",
        "for word in words:  # Iterate through each word found\n",
        "  if word in word_counts:\n",
        "    word_counts[word] += 1  # Increments count if word already exists in the dictionary\n",
        "  else:\n",
        "    word_counts[word] = 1  # Initializes count to 1 if word is encountered for the first time\n",
        "\n",
        "# Print the word counts\n",
        "for word, count in word_counts.items():  # Iterate through the word-count pairs in the dictionary\n",
        "  print(f\"'{word}': {count}\")  # Print each word and its count in a formatted way"
      ],
      "metadata": {
        "colab": {
          "base_uri": "https://localhost:8080/"
        },
        "id": "RUohEKbWqboi",
        "outputId": "3f1a421d-b7e2-4408-a62d-9a5966429975"
      },
      "execution_count": 4,
      "outputs": [
        {
          "output_type": "stream",
          "name": "stdout",
          "text": [
            "'this': 2\n",
            "'is': 1\n",
            "'a': 1\n",
            "'sample': 1\n",
            "'text': 2\n",
            "'will': 1\n",
            "'be': 1\n",
            "'used': 1\n",
            "'to': 1\n",
            "'demonstrate': 1\n",
            "'the': 1\n",
            "'word': 1\n",
            "'counter': 1\n"
          ]
        }
      ]
    },
    {
      "cell_type": "markdown",
      "source": [
        "5.Write a Python function called is_palindrome that takes a string as input and returns True if the string is a palindrome, and False otherwise. A palindrome is a word, phrase, number, or other sequence of characters that reads the same forward and backward, ignoring spaces, punctuation, and capitalization.\n",
        "Example:\n",
        "Input: \"racecar\"\n",
        "Expected Output: True"
      ],
      "metadata": {
        "id": "8opySR_XsDSX"
      }
    },
    {
      "cell_type": "code",
      "source": [
        "import string\n",
        "def is_palindrome(text):\n",
        "    # Remove punctuation and spaces, and convert to lowercase\n",
        "    normalized_str = ''.join(char.lower() for char in text if char.isalnum())\n",
        "\n",
        "    # Check if the normalized string is equal to its reverse\n",
        "    return normalized_str == normalized_str[::-1]\n"
      ],
      "metadata": {
        "id": "im6lNFzIrsGo"
      },
      "execution_count": 5,
      "outputs": []
    },
    {
      "cell_type": "code",
      "source": [
        "is_palindrome(\"madam\")"
      ],
      "metadata": {
        "colab": {
          "base_uri": "https://localhost:8080/"
        },
        "id": "mh3pcsVZurNC",
        "outputId": "9a711ed1-9b92-404c-fa23-b04738619b72"
      },
      "execution_count": 6,
      "outputs": [
        {
          "output_type": "execute_result",
          "data": {
            "text/plain": [
              "True"
            ]
          },
          "metadata": {},
          "execution_count": 6
        }
      ]
    },
    {
      "cell_type": "code",
      "source": [
        "is_palindrome(\"racecar\")"
      ],
      "metadata": {
        "colab": {
          "base_uri": "https://localhost:8080/"
        },
        "id": "2QW4GWhZuwMF",
        "outputId": "aea79696-31a3-4012-936a-250ca403ce8a"
      },
      "execution_count": 7,
      "outputs": [
        {
          "output_type": "execute_result",
          "data": {
            "text/plain": [
              "True"
            ]
          },
          "metadata": {},
          "execution_count": 7
        }
      ]
    },
    {
      "cell_type": "code",
      "source": [],
      "metadata": {
        "id": "juGxAQtAuzc5"
      },
      "execution_count": null,
      "outputs": []
    }
  ]
}