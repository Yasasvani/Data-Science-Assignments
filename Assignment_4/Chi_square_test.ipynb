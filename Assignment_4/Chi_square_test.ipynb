{
  "nbformat": 4,
  "nbformat_minor": 0,
  "metadata": {
    "colab": {
      "provenance": []
    },
    "kernelspec": {
      "name": "python3",
      "display_name": "Python 3"
    },
    "language_info": {
      "name": "python"
    }
  },
  "cells": [
    {
      "cell_type": "markdown",
      "source": [
        "**Association between Device Type and Customer Satisfaction**\n",
        "\n",
        "**Background:**\n",
        "\n",
        "Mizzare Corporation has collected data on customer satisfaction levels for two types of smart home devices: Smart Thermostats and Smart Lights. They want to determine if there's a significant association between the type of device purchased and the customer's satisfaction level.\n",
        "\n",
        "**Data Provided:**\n",
        "\n",
        "The data is summarized in a contingency table showing the counts of customers in each satisfaction level for both types of devices:\n",
        "\n",
        "Satisfaction Smart Thermostat   Smart Light\n",
        "                             \n",
        "     \n",
        "\n",
        "Total\n",
        "Very Satisfied\n",
        "50\n",
        "70\n",
        "120\n",
        "\n",
        "Satisfied\n",
        "80\n",
        "100\n",
        "180\n",
        "\n",
        "Neutral\n",
        "60\n",
        "90\n",
        "150\n",
        "\n",
        "Unsatisfied\n",
        "30\n",
        "50\n",
        "80\n",
        "\n",
        "Very Unsatisfied\n",
        "20\n",
        "50\n",
        "70\n",
        "\n",
        "Total\n",
        "240\n",
        "360\n",
        "600\n",
        "\n",
        "\n",
        "**Objective:**\n",
        "\n",
        "To use the Chi-Square test for independence to determine if there's a significant association between the type of smart home device purchased (Smart Thermostats vs. Smart Lights) and the customer satisfaction level.\n"
      ],
      "metadata": {
        "id": "c9tC90kHyzBc"
      }
    },
    {
      "cell_type": "markdown",
      "source": [
        "Assignment Tasks:\n",
        "1. State the Hypotheses:\n",
        "2. Compute the Chi-Square Statistic:\n",
        "3. Determine the Critical Value:\n",
        "Using the significance level (alpha) of 0.05 and the degrees of freedom (which is the number of categories minus 1)\n",
        "4. Make a Decision:\n",
        "Compare the Chi-Square statistic with the critical value to decide whether to reject the null hypothesis.\n"
      ],
      "metadata": {
        "id": "OfBHoD3K1nky"
      }
    },
    {
      "cell_type": "markdown",
      "source": [
        "1.State the hypothesis\n",
        "\n",
        "Null Hypothesis: There is no significant association between the type of smart home device purchased (Smart Thermostats vs. Smart Lights) and the customer satisfaction level.\n",
        "\n",
        "Alternative Hypothesis: There's a significant association between the type of smart home device purchased (Smart Thermostats vs. Smart Lights) and the customer satisfaction level.\n",
        "\n"
      ],
      "metadata": {
        "id": "uQcfli-DyHKX"
      }
    },
    {
      "cell_type": "code",
      "execution_count": 1,
      "metadata": {
        "id": "5Pmwk9spwXa9"
      },
      "outputs": [],
      "source": [
        "# importing the necessary libraries\n",
        "import numpy as np\n",
        "from scipy.stats import chi2, chi2_contingency"
      ]
    },
    {
      "cell_type": "code",
      "source": [
        "# contingency table as a numpy array\n",
        "observed_data = np.array([\n",
        "    [50, 70],  # Very Satisfied\n",
        "    [80, 100], # Satisfied\n",
        "    [60, 90],  # Neutral\n",
        "    [30, 50],  # Unsatisfied\n",
        "    [20, 50]   # Very Unsatisfied\n",
        "])"
      ],
      "metadata": {
        "id": "OUqPQkNq2ZpP"
      },
      "execution_count": 2,
      "outputs": []
    },
    {
      "cell_type": "code",
      "source": [
        "row_totals = observed_data.sum(axis=1) # calculates row total\n",
        "col_totals = observed_data.sum(axis=0) # calculates column total\n",
        "grand_total = observed_data.sum() # calculates grand total"
      ],
      "metadata": {
        "id": "IoAD2foE2qIX"
      },
      "execution_count": 3,
      "outputs": []
    },
    {
      "cell_type": "code",
      "source": [
        "# prints the row,column,grand totals\n",
        "print(\"Row Totals:\", row_totals)\n",
        "print(\"Column Totals:\", col_totals)\n",
        "print(\"Grand Total:\", grand_total)"
      ],
      "metadata": {
        "colab": {
          "base_uri": "https://localhost:8080/"
        },
        "id": "U7_zibJ14Rge",
        "outputId": "40027233-39ed-435b-a5d2-c2faefd5c6a3"
      },
      "execution_count": 4,
      "outputs": [
        {
          "output_type": "stream",
          "name": "stdout",
          "text": [
            "Row Totals: [120 180 150  80  70]\n",
            "Column Totals: [240 360]\n",
            "Grand Total: 600\n"
          ]
        }
      ]
    },
    {
      "cell_type": "code",
      "source": [
        "expected_data = np.outer(row_totals, col_totals) / grand_total # calculates the expected data"
      ],
      "metadata": {
        "id": "q5xZtF1E4lgZ"
      },
      "execution_count": 5,
      "outputs": []
    },
    {
      "cell_type": "code",
      "source": [
        "print(expected_data) # prints the expected data"
      ],
      "metadata": {
        "colab": {
          "base_uri": "https://localhost:8080/"
        },
        "id": "UO8Hibfx46or",
        "outputId": "0ba5f5c7-6578-4aff-dabf-8d0bd9f1b2ae"
      },
      "execution_count": 6,
      "outputs": [
        {
          "output_type": "stream",
          "name": "stdout",
          "text": [
            "[[ 48.  72.]\n",
            " [ 72. 108.]\n",
            " [ 60.  90.]\n",
            " [ 32.  48.]\n",
            " [ 28.  42.]]\n"
          ]
        }
      ]
    },
    {
      "cell_type": "markdown",
      "source": [
        "2. Compute the Chi-Square Statistic:\n"
      ],
      "metadata": {
        "id": "TKg0G8827Fa1"
      }
    },
    {
      "cell_type": "code",
      "source": [
        "chi_square_statistic = ((observed_data - expected_data) ** 2 / expected_data).sum() # calculates the chi-square statistic\n",
        "chi_square_statistic"
      ],
      "metadata": {
        "colab": {
          "base_uri": "https://localhost:8080/"
        },
        "id": "_X0NveOT46ez",
        "outputId": "909f3f0b-d844-456d-f29d-0091b4564195"
      },
      "execution_count": 7,
      "outputs": [
        {
          "output_type": "execute_result",
          "data": {
            "text/plain": [
              "5.638227513227513"
            ]
          },
          "metadata": {},
          "execution_count": 7
        }
      ]
    },
    {
      "cell_type": "markdown",
      "source": [
        "3. Determine the Critical Value:\n"
      ],
      "metadata": {
        "id": "SersViC27PLO"
      }
    },
    {
      "cell_type": "code",
      "source": [
        "alpha = 0.05 # sets the significance level\n",
        "degrees_of_freedom = (observed_data.shape[0] - 1) * (observed_data.shape[1] - 1) # calculates dof\n",
        "print(degrees_of_freedom)"
      ],
      "metadata": {
        "colab": {
          "base_uri": "https://localhost:8080/"
        },
        "id": "XtgV4EVM49Xo",
        "outputId": "393cdd35-5b78-4edc-ef80-0f0e1dda7eef"
      },
      "execution_count": 8,
      "outputs": [
        {
          "output_type": "stream",
          "name": "stdout",
          "text": [
            "4\n"
          ]
        }
      ]
    },
    {
      "cell_type": "code",
      "source": [
        "critical_value = chi2.ppf(1 - alpha, degrees_of_freedom) # calculates critical value\n",
        "critical_value"
      ],
      "metadata": {
        "colab": {
          "base_uri": "https://localhost:8080/"
        },
        "id": "bidqIi7T5wq6",
        "outputId": "0d2c73c0-4344-4184-b035-183e1911ca37"
      },
      "execution_count": 9,
      "outputs": [
        {
          "output_type": "execute_result",
          "data": {
            "text/plain": [
              "9.487729036781154"
            ]
          },
          "metadata": {},
          "execution_count": 9
        }
      ]
    },
    {
      "cell_type": "code",
      "source": [
        "# we can directly use the package and perform the chisquare test\n",
        "chi2_stat, p_val, dof, expected = chi2_contingency(observed_data)\n",
        "\n",
        "print(f\"Chi-Square Statistic: {chi2_stat}\")\n",
        "print(f\"P-value: {p_val}\")\n",
        "print(f\"Degrees of Freedom: {dof}\")\n",
        "print(f\"Expected Frequencies: \\n{expected}\")"
      ],
      "metadata": {
        "colab": {
          "base_uri": "https://localhost:8080/"
        },
        "id": "zh9iitku9wtH",
        "outputId": "e7d9d0a9-9b49-489a-bf2e-7f2665ecda05"
      },
      "execution_count": 11,
      "outputs": [
        {
          "output_type": "stream",
          "name": "stdout",
          "text": [
            "Chi-Square Statistic: 5.638227513227513\n",
            "P-value: 0.22784371130697179\n",
            "Degrees of Freedom: 4\n",
            "Expected Frequencies: \n",
            "[[ 48.  72.]\n",
            " [ 72. 108.]\n",
            " [ 60.  90.]\n",
            " [ 32.  48.]\n",
            " [ 28.  42.]]\n"
          ]
        }
      ]
    },
    {
      "cell_type": "markdown",
      "source": [
        "4. Make a decision\n",
        "\n",
        "Since the calculated Chi-Square statistic (5.64) is less than the critical value (9.49), we fail to reject the null hypothesis.\n",
        "\n",
        "Conclusion:\n",
        "\n",
        "This means there is no significant association between the type of smart home device (Smart Thermostat or Smart Light) and customer satisfaction levels at the 5% significance level. Therefore, customer satisfaction appears to be independent of the type of device purchased."
      ],
      "metadata": {
        "id": "T7lAsVa27Z45"
      }
    }
  ]
}