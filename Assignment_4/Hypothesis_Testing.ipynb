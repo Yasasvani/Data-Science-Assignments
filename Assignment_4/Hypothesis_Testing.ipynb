{
  "nbformat": 4,
  "nbformat_minor": 0,
  "metadata": {
    "colab": {
      "provenance": []
    },
    "kernelspec": {
      "name": "python3",
      "display_name": "Python 3"
    },
    "language_info": {
      "name": "python"
    }
  },
  "cells": [
    {
      "cell_type": "markdown",
      "source": [
        "Background:\n",
        "\n",
        "Bombay hospitality Ltd. operates a franchise model for producing exotic Norwegian dinners throughout New England. The operating cost for a franchise in a week (W) is given by the equation W = $1,000 + $5X, where X represents the number of units produced in a week. Recent feedback from restaurant owners suggests that this cost model may no longer be accurate, as their observed weekly operating costs are higher.\n",
        "\n",
        "Objective:\n",
        "\n",
        "To investigate the restaurant owners' claim about the increase in weekly operating costs using hypothesis testing.\n",
        "\n",
        "Data Provided:\n",
        "\n",
        "The theoretical weekly operating cost model: W = $1,000 + $5X\n",
        "\n",
        "Sample of 25 restaurants with a mean weekly cost of Rs. 3,050\n",
        "\n",
        "Number of units produced in a week (X) follows a normal distribution with a mean (μ) of 600 units and a standard deviation (σ) of 25 units\n"
      ],
      "metadata": {
        "id": "uPtBXbYMCHVA"
      }
    },
    {
      "cell_type": "code",
      "source": [
        "import scipy.stats as stats\n",
        "import numpy as np"
      ],
      "metadata": {
        "id": "T5ycyrFaNoaj"
      },
      "execution_count": 1,
      "outputs": []
    },
    {
      "cell_type": "code",
      "execution_count": 2,
      "metadata": {
        "id": "Lh6_d2DmBtHC"
      },
      "outputs": [],
      "source": [
        "n=25 #sample size\n",
        "x_bar=3050 #sample mean\n",
        "W=1000+5*600 #theoretical weekly operating cost\n",
        "sigma=5*25 # standard deviation of weekly cost\n",
        "alpha=0.05 #significance level\n",
        "CI=0.95 #confidence interval\n",
        "# It is a one tailed t test"
      ]
    },
    {
      "cell_type": "markdown",
      "source": [
        "Null Hypothesis: The weekly operating costs are not higher than the model suggests.\n",
        "\n",
        "Alternative Hypothesis: The weekly operating costs are higher than the model suggests."
      ],
      "metadata": {
        "id": "6Ka6HcPoDq_T"
      }
    },
    {
      "cell_type": "code",
      "source": [
        "t_statistics=(x_bar-W)/(sigma/np.sqrt(n)) # calculates t statistics\n",
        "t_statistics"
      ],
      "metadata": {
        "colab": {
          "base_uri": "https://localhost:8080/"
        },
        "id": "0XRPZSeChNhI",
        "outputId": "c604ad39-6dd5-4f15-8322-11cdf1a17382"
      },
      "execution_count": 3,
      "outputs": [
        {
          "output_type": "execute_result",
          "data": {
            "text/plain": [
              "-38.0"
            ]
          },
          "metadata": {},
          "execution_count": 3
        }
      ]
    },
    {
      "cell_type": "code",
      "source": [
        "critical_val=stats.norm.ppf(1-alpha) # calculates the critical value using z-table with 95% confidence interval\n",
        "critical_val"
      ],
      "metadata": {
        "colab": {
          "base_uri": "https://localhost:8080/"
        },
        "id": "t3gdG4rnmJPE",
        "outputId": "af1ad540-3de4-473c-9c69-27b9316f2380"
      },
      "execution_count": 4,
      "outputs": [
        {
          "output_type": "execute_result",
          "data": {
            "text/plain": [
              "1.6448536269514722"
            ]
          },
          "metadata": {},
          "execution_count": 4
        }
      ]
    },
    {
      "cell_type": "markdown",
      "source": [
        "Since  the test statistics(-38.0) is smaller than the critical value(1.64) , we fail to reject Null hypothesis.\n",
        "\n",
        "This means that the weekly operating costs are not higher than the model suggests.\n"
      ],
      "metadata": {
        "id": "tkoVXQeWr8_2"
      }
    },
    {
      "cell_type": "markdown",
      "source": [
        "Conclusion:\n",
        "\n",
        "There is no strong evidence to support the restaurant owners' claim that the weekly operating costs are higher than the model suggests.\n",
        "\n"
      ],
      "metadata": {
        "id": "-q7rJ1T_t-gE"
      }
    },
    {
      "cell_type": "markdown",
      "source": [
        "Steps Invloved:\n",
        "1. Stating Null and Alternative Hypothesis\n",
        "2. Calculating test statistics\n",
        "3. Determine the Critical value\n",
        "4. Making a decision\n",
        "5. Conclusion"
      ],
      "metadata": {
        "id": "WFyQUSCTua96"
      }
    },
    {
      "cell_type": "code",
      "source": [],
      "metadata": {
        "id": "Cx4CXvNEo1n3"
      },
      "execution_count": 4,
      "outputs": []
    }
  ]
}